{
 "cells": [
  {
   "cell_type": "code",
   "execution_count": null,
   "id": "initial_id",
   "metadata": {
    "collapsed": true
   },
   "outputs": [],
   "source": [
    "import numpy as np\n",
    "import pandas as pd\n",
    "import matplotlib.pyplot as plt\n",
    "import torch\n",
    "import torch.nn as nn\n",
    "from scipy import stats\n",
    "import torch.optim as optim"
   ]
  },
  {
   "cell_type": "raw",
   "source": [
    "Import and Normalize Data"
   ],
   "metadata": {
    "collapsed": false
   },
   "id": "559c2c40f8c39ae0"
  },
  {
   "cell_type": "code",
   "execution_count": null,
   "outputs": [],
   "source": [
    "def Import_Normalize_Data(path):\n",
    "    data = pd.read_csv(path)\n",
    "    data['Rent'] = np.log1p(data['Rent'])\n",
    "    data['Size'] = np.log1p(data['Size'])\n",
    "    return data"
   ],
   "metadata": {
    "collapsed": false
   },
   "id": "bb1bd59d80f717f"
  },
  {
   "cell_type": "raw",
   "source": [
    "Plot Size"
   ],
   "metadata": {
    "collapsed": false
   },
   "id": "40e113dd69fdfd0f"
  },
  {
   "cell_type": "code",
   "execution_count": null,
   "outputs": [],
   "source": [
    "def Plot_Size(data):\n",
    "    fig, ax = plt.subplots()\n",
    "    res = stats.probplot(data['Size'], plot=ax)\n",
    "    ax.ticklabel_format(style='plain')\n",
    "    ax.set_title(\"Probability Plot - Size\")\n",
    "    plt.show()"
   ],
   "metadata": {
    "collapsed": false
   },
   "id": "4724348569cb9c60"
  },
  {
   "cell_type": "raw",
   "source": [
    "Plot Rent"
   ],
   "metadata": {
    "collapsed": false
   },
   "id": "47ec7be0e8befcf5"
  },
  {
   "cell_type": "code",
   "execution_count": null,
   "outputs": [],
   "source": [
    "def Plot_Rent(data):\n",
    "    fig, ax = plt.subplots()\n",
    "    res = stats.probplot(data['Rent'], plot=ax)\n",
    "    ax.ticklabel_format(style='plain')\n",
    "    ax.set_title(\"Probability Plot - Rent\")\n",
    "    plt.show()"
   ],
   "metadata": {
    "collapsed": false
   },
   "id": "695ea73a4ed6e378"
  },
  {
   "cell_type": "raw",
   "source": [
    "Filter Data"
   ],
   "metadata": {
    "collapsed": false
   },
   "id": "e154bcb0212b6ff6"
  },
  {
   "cell_type": "code",
   "execution_count": null,
   "outputs": [],
   "source": [
    "def Filter(data):\n",
    "    Size = np.array(data['Size'])\n",
    "    Rent = np.array(data['Rent'])\n",
    "    _size = [vl for idx, vl in enumerate(Size)]\n",
    "    _rent = [vl for idx, vl in enumerate(Rent)]\n",
    "    data = np.array([_size, _rent])\n",
    "    label = _rent\n",
    "    features = np.array(_size)\n",
    "    data = np.transpose(data)\n",
    "    return label, features"
   ],
   "metadata": {
    "collapsed": false
   },
   "id": "c05a787a304eaa2b"
  },
  {
   "cell_type": "raw",
   "source": [
    "Train Test Split"
   ],
   "metadata": {
    "collapsed": false
   },
   "id": "d642341485ea004e"
  },
  {
   "cell_type": "code",
   "execution_count": null,
   "outputs": [],
   "source": [
    "def main():\n",
    "    data = Import_Normalize_Data(\"House_Rent_Dataset.csv\")\n",
    "    y, x = Filter(data)\n",
    "\n",
    "    feature = torch.tensor(x, dtype=torch.float32).view(-1, 1)\n",
    "    label = torch.tensor(y, dtype=torch.float32).view(-1, 1)\n",
    "\n",
    "    model = LinearRegressionModel()\n",
    "\n",
    "    criterion = nn.MSELoss()\n",
    "    optimizer = optim.SGD(model.parameters(), lr=0.01)\n",
    "\n",
    "    num_epochs = 4700\n",
    "    for epoch in range(num_epochs):\n",
    "        outputs = model(feature)\n",
    "        loss = criterion(outputs, label)\n",
    "        optimizer.zero_grad()\n",
    "        loss.backward()\n",
    "        optimizer.step()\n",
    "\n",
    "        if (epoch + 1) % 100 == 0:\n",
    "            print(f'Epoch [{epoch + 1}/{num_epochs}], Loss: {loss.item():.4f}')\n",
    "    X_ = data['Size']\n",
    "    Y_ = data['Rent']\n",
    "    #\n",
    "    predicted_prices = model(feature).detach().numpy() * np.std(y) + np.mean(y)\n",
    "    plt.scatter(X_, Y_, label='Thực tế')\n",
    "    plt.scatter(x, predicted_prices, color='red', label='Dự đoán')\n",
    "    plt.xlabel('Diện tích (m2)')\n",
    "    plt.ylabel('Giá nhà')\n",
    "    plt.legend()\n",
    "    plt.show()"
   ],
   "metadata": {
    "collapsed": false
   },
   "id": "53b7deb3575a9211"
  },
  {
   "cell_type": "raw",
   "source": [
    "Main"
   ],
   "metadata": {
    "collapsed": false
   },
   "id": "2d475798ae28f837"
  },
  {
   "cell_type": "code",
   "execution_count": null,
   "outputs": [],
   "source": [
    "if __name__ == '__main__':\n",
    "    main()"
   ],
   "metadata": {
    "collapsed": false
   },
   "id": "4e025e085988cb30"
  },
  {
   "cell_type": "raw",
   "source": [],
   "metadata": {
    "collapsed": false
   },
   "id": "69325d7f77c85b22"
  }
 ],
 "metadata": {
  "kernelspec": {
   "display_name": "Python 3",
   "language": "python",
   "name": "python3"
  },
  "language_info": {
   "codemirror_mode": {
    "name": "ipython",
    "version": 2
   },
   "file_extension": ".py",
   "mimetype": "text/x-python",
   "name": "python",
   "nbconvert_exporter": "python",
   "pygments_lexer": "ipython2",
   "version": "2.7.6"
  }
 },
 "nbformat": 4,
 "nbformat_minor": 5
}
